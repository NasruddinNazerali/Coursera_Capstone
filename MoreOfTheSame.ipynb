{
    "nbformat_minor": 1, 
    "cells": [
        {
            "source": "# More of the Same \n## Diversity/Homogeneity of Amenities in Neighborhoods as a Measure of Socioeconomic Wellbeing\n### Nasruddin Nazerali", 
            "cell_type": "markdown", 
            "metadata": {
                "collapsed": true
            }
        }, 
        {
            "source": "### Introduction", 
            "cell_type": "markdown", 
            "metadata": {}
        }, 
        {
            "source": "Based on spatial data analysis of New York City and Toronto in which I segmented and clustered different neighborhoods based on the available popular amenities on Foursquare, I have made the following observations:\n1. The types of amenities in Toronto appear to be more evenly spread around the city compared to New York City.  Most postcodes were clustered to the same label/class based on the categories of the ten most popular Foursquare venues.  This leads me to believe the city may not have a \"good side\" and \"the other side\", but offers a uniform experience to residents of any part of town.\n2. Some of the clusters in neighborhoods in New York City, especially concentrated in certain burroughs geographically can be characterized by a lack of diversity in types of amenities.  This leads me to hypothesize 'more of the same' types of amenities concentrated in certain neighborhoods.  E.g., fast food, diner, cafe, ... and other variations on restaurants as a majority of the 10 popular/close Foursquare venues.  Thus my title, 'more of the same', or equivalently, 'same difference'.", 
            "cell_type": "markdown", 
            "metadata": {}
        }, 
        {
            "source": "It is worth asking if the diversity of a city's amenities in different neighborhoods signify the socioeconomic well being of the residents in that area.  We can guess that a neighborhood with a park, public swimming pool, gymnasium, museum, theater, cinema as well as cafes and eateries is a more affluent neighborhood, and the residents have more choice, and socioeconomic well being than residents who can choose only between near synonymous categories of eating/drinking establishments.", 
            "cell_type": "markdown", 
            "metadata": {}
        }, 
        {
            "source": "Another interesting and complicating factor in U.S cities is racial segregation in residential neighborhoods which persists in some cities as a legacy phenomenon despite legislation which fosters fairness.  Chicago, IL, and Detroit, MI are cases that are cited as some of the more persistently segregated.  Note [this](https://www.washingtonpost.com/graphics/2018/national/segregation-us-cities/?noredirect=on&utm_term=.fab41c11190e) Washington Post article with good geospatial visualization.", 
            "cell_type": "markdown", 
            "metadata": {}
        }, 
        {
            "source": "As Chicago has extensive data on socioeconomic indicators, school performance, and crime, which we have examined in previous IBM classes, it is an ideal case study to examine if there is a correlation between diversity of amenity types concentrated in certain neighborhoods and socioeconomic well being.", 
            "cell_type": "markdown", 
            "metadata": {}
        }, 
        {
            "source": "*Urban planners, city officials, developers and community organizers could benefit from a quantitative study of this type.*", 
            "cell_type": "markdown", 
            "metadata": {}
        }, 
        {
            "source": "### Data", 
            "cell_type": "markdown", 
            "metadata": {}
        }, 
        {
            "source": "This data analysis would benefit from some breadth as well as depth.  In the course of the IBM Capstone class, I have performed the segmentation/clustering analysis of New York City (all burroughs) and Toronto using the Foursquare data.  The following tasks would round out that analysis and add more insight in terms of breadth:\n1. Reexamine the clustering parameters and analyze the performance of different models.\n2. Quantify the diversity of categories of venues.  This can be a heuristic parameter that makes a kind of entropy index from the clustering output, or the clustering can be re-parametrized as part of task 1.\n3. Peform the same analysis on a representative sample of U.S. cities including Chicago. (San Fransisco - as we have crimes data as well - and Atlanta for a good geographic spread.)\n\nFor the case of Chicago an in depth analysis is possible due to extensive and well-curated data and can yield an answer to the hypothesis that socio economic factors will track in correlation to diversity of amenities.  Data sets include\n1. [Chicago Public Schools - Progress Report Cards (2011-2012)](https://data.cityofchicago.org/Education/Chicago-Public-Schools-Progress-Report-Cards-2011-/9xs2-f89t)\n2. [Crimes - One Year Prior to Present](https://data.cityofchicago.org/Public-Safety/Crimes-One-year-prior-to-present/x2n5-8w5q)\n3. [Census Data - Selected Socioeconomic Indicators 2008-2012](https://data.cityofchicago.org/Health-Human-Services/Census-Data-Selected-socioeconomic-indicators-in-C/kn9c-c2s2)\n\nThe parametrization can be kept to a basic level to start in order to combine data sets, e.g., aggregate report card score, frequency of crimes and hardship index for all neighborhoods.  This can be refined incrementally.  Some work is needed to aggregate 'community areas', crime geolocations and school zipcodes into neighborhoods to query on Foursquare.", 
            "cell_type": "markdown", 
            "metadata": {}
        }
    ], 
    "metadata": {
        "kernelspec": {
            "display_name": "Python 3.5", 
            "name": "python3", 
            "language": "python"
        }, 
        "language_info": {
            "mimetype": "text/x-python", 
            "nbconvert_exporter": "python", 
            "version": "3.5.5", 
            "name": "python", 
            "file_extension": ".py", 
            "pygments_lexer": "ipython3", 
            "codemirror_mode": {
                "version": 3, 
                "name": "ipython"
            }
        }
    }, 
    "nbformat": 4
}